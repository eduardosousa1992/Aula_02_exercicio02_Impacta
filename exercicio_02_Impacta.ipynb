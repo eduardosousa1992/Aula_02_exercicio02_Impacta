{
  "nbformat": 4,
  "nbformat_minor": 0,
  "metadata": {
    "colab": {
      "name": "exercicio_02_Impacta.ipynb",
      "private_outputs": true,
      "provenance": [],
      "authorship_tag": "ABX9TyPMnjzK+7hAoEZko2vmxzmx",
      "include_colab_link": true
    },
    "kernelspec": {
      "name": "python3",
      "display_name": "Python 3"
    },
    "language_info": {
      "name": "python"
    }
  },
  "cells": [
    {
      "cell_type": "markdown",
      "metadata": {
        "id": "view-in-github",
        "colab_type": "text"
      },
      "source": [
        "<a href=\"https://colab.research.google.com/github/eduardosousa1992/Aula_02_exercicio02_Impacta/blob/main/exercicio_02_Impacta.ipynb\" target=\"_parent\"><img src=\"https://colab.research.google.com/assets/colab-badge.svg\" alt=\"Open In Colab\"/></a>"
      ]
    },
    {
      "cell_type": "markdown",
      "metadata": {
        "id": "riTFnQtC8-yh"
      },
      "source": [
        "\n",
        "#Lista de Exercícios semana 01\n",
        "\n",
        "#Questão 02 : Crie um dicionário chamado cardapío em que as chaves são os dias da semana e os respectivos valores os pratos do dia. \n",
        "\n"
      ]
    },
    {
      "cell_type": "code",
      "metadata": {
        "id": "jw9_BQ9f8-OL"
      },
      "source": [
        "cardapio = {\n",
        "    'Segunda-feira': 'Baião de dois',\n",
        "    'Terça-feira'  : 'Trufas brancas',\n",
        "    'Quarta-feira' : 'Feijoada',\n",
        "    'Quinta-feira' : 'Foie gras',\n",
        "    'Sexta-feira'  : 'Peixe'\n",
        "}"
      ],
      "execution_count": null,
      "outputs": []
    },
    {
      "cell_type": "code",
      "metadata": {
        "id": "9TDt3NZE80bd"
      },
      "source": [
        "print(cardapio)"
      ],
      "execution_count": null,
      "outputs": []
    },
    {
      "cell_type": "markdown",
      "metadata": {
        "id": "YhZd5oTNA-KB"
      },
      "source": [
        "#Questão 03 : Crie um dicionário chamado hemograma que contenha as seguintes chave:valor.\n",
        "\n",
        "#Hemacias: 4.71\n",
        "#Hemoglobina: 14.1 \n",
        "#Hematocrito: 41.2\n",
        "#Linfocitos: 38\n",
        "#Monocitos 7\n",
        "#Resultado: Saudável \n",
        "\n"
      ]
    },
    {
      "cell_type": "code",
      "metadata": {
        "id": "eGhDGNo9AQN2"
      },
      "source": [
        "hemograma = {\n",
        "    'Hemacias'     : '4.71',\n",
        "    'Hemoglobina'  : '14.1',\n",
        "    'Hematocrito'  : '41.2',\n",
        "    'Linfocitos'   : '38',\n",
        "    'Monocitos'    : '7',\n",
        "    'Resultado'    : 'Saudavel'\n",
        "}"
      ],
      "execution_count": null,
      "outputs": []
    },
    {
      "cell_type": "code",
      "metadata": {
        "id": "vwqO9T9iCwrG"
      },
      "source": [
        "print(hemograma)"
      ],
      "execution_count": null,
      "outputs": []
    },
    {
      "cell_type": "markdown",
      "metadata": {
        "id": "h42zNZhyF9qd"
      },
      "source": [
        "#Questão 04 : Corrija o dicionário acima com monocitos 12."
      ]
    },
    {
      "cell_type": "code",
      "metadata": {
        "id": "8oTiL1H2C0GU"
      },
      "source": [
        "hemograma = {\n",
        "    'Hemacias'     : '4.71',\n",
        "    'Hemoglobina'  : '14.1',\n",
        "    'Hematocrito'  : '41.2',\n",
        "    'Linfocitos'   : '38',\n",
        "    'Monocitos'    : '12',\n",
        "    'Resultado'    : 'Saudavel'\n",
        "}"
      ],
      "execution_count": null,
      "outputs": []
    },
    {
      "cell_type": "code",
      "metadata": {
        "id": "zLyjrN6oC78_"
      },
      "source": [
        "print(hemograma)"
      ],
      "execution_count": null,
      "outputs": []
    },
    {
      "cell_type": "code",
      "metadata": {
        "id": "vimCglSoC9yO"
      },
      "source": [
        "print(hemograma['Monocitos'])"
      ],
      "execution_count": null,
      "outputs": []
    },
    {
      "cell_type": "code",
      "metadata": {
        "id": "_qIm2cE3F2_k"
      },
      "source": [
        ""
      ],
      "execution_count": null,
      "outputs": []
    }
  ]
}